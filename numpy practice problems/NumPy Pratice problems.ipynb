{
 "cells": [
  {
   "cell_type": "code",
   "execution_count": 10,
   "id": "8e4ddb23",
   "metadata": {},
   "outputs": [],
   "source": [
    "import numpy as np"
   ]
  },
  {
   "cell_type": "markdown",
   "id": "111b86e0",
   "metadata": {},
   "source": [
    "## Create a 3×3 numpy array of all True’s"
   ]
  },
  {
   "cell_type": "code",
   "execution_count": 11,
   "id": "72c450e4",
   "metadata": {
    "scrolled": true
   },
   "outputs": [
    {
     "name": "stdout",
     "output_type": "stream",
     "text": [
      "[[ True  True  True]\n",
      " [ True  True  True]\n",
      " [ True  True  True]]\n"
     ]
    }
   ],
   "source": [
    "boolean_arr = np.full((3,3), True, dtype=bool)\n",
    "print(boolean_arr)"
   ]
  },
  {
   "cell_type": "markdown",
   "id": "9ed972fb",
   "metadata": {},
   "source": [
    "## Extract all the odd numbers from a numpy array"
   ]
  },
  {
   "cell_type": "code",
   "execution_count": 12,
   "id": "00702b54",
   "metadata": {},
   "outputs": [
    {
     "name": "stdout",
     "output_type": "stream",
     "text": [
      "[ 1  3  5  7  9 11]\n"
     ]
    }
   ],
   "source": [
    "odd_numbers = np.array([1,2,3,4,5,6,7,8,9,10,11])\n",
    "print(odd_numbers[odd_numbers%2!=0])"
   ]
  },
  {
   "cell_type": "markdown",
   "id": "fd2eed53",
   "metadata": {},
   "source": [
    "## Replace all odd numbers with -1"
   ]
  },
  {
   "cell_type": "code",
   "execution_count": 13,
   "id": "719c4db6",
   "metadata": {},
   "outputs": [
    {
     "name": "stdout",
     "output_type": "stream",
     "text": [
      "[-1  2 -1  4 -1  6 -1  8 -1 10 -1]\n"
     ]
    }
   ],
   "source": [
    "odd_numbers = np.array([1,2,3,4,5,6,7,8,9,10,11])\n",
    "odd_numbers[odd_numbers%2!=0] = -1\n",
    "print(odd_numbers)"
   ]
  },
  {
   "cell_type": "markdown",
   "id": "626de724",
   "metadata": {},
   "source": [
    "## Stack arrays vertically"
   ]
  },
  {
   "cell_type": "code",
   "execution_count": 15,
   "id": "c7bf15f8",
   "metadata": {},
   "outputs": [
    {
     "name": "stdout",
     "output_type": "stream",
     "text": [
      "[[0 1 2 3 4]\n",
      " [5 6 7 8 9]\n",
      " [1 1 1 1 1]\n",
      " [1 1 1 1 1]]\n"
     ]
    }
   ],
   "source": [
    "a = np.arange(10).reshape(2,-1)\n",
    "b = np.repeat(1,10).reshape(2,-1)\n",
    "print(np.vstack([a,b]))"
   ]
  },
  {
   "cell_type": "markdown",
   "id": "46442bc9",
   "metadata": {},
   "source": [
    "## Stack array horizontally"
   ]
  },
  {
   "cell_type": "code",
   "execution_count": 16,
   "id": "42fb3e99",
   "metadata": {},
   "outputs": [
    {
     "name": "stdout",
     "output_type": "stream",
     "text": [
      "[[0 1 2 3 4 1 1 1 1 1]\n",
      " [5 6 7 8 9 1 1 1 1 1]]\n"
     ]
    }
   ],
   "source": [
    "a = np.arange(10).reshape(2,-1)\n",
    "b = np.repeat(1,10).reshape(2,-1)\n",
    "print(np.hstack([a,b]))"
   ]
  },
  {
   "cell_type": "code",
   "execution_count": 36,
   "id": "ae137138",
   "metadata": {},
   "outputs": [
    {
     "name": "stdout",
     "output_type": "stream",
     "text": [
      "[1 1 1 2 2 2 3 3 3 1 2 3 1 2 3 1 2 3]\n"
     ]
    }
   ],
   "source": [
    "# input: a = np.array([1,2,3])\n",
    "# output:  array([1, 1, 1, 2, 2, 2, 3, 3, 3, 1, 2, 3, 1, 2, 3, 1, 2, 3])\n",
    "\n",
    "a = np.array([1,2,3])\n",
    "print(np.r_[np.repeat(a,3), np.tile(a,3)])"
   ]
  },
  {
   "cell_type": "markdown",
   "id": "8543ae33",
   "metadata": {},
   "source": [
    "## Find the common elements b/w two arrays"
   ]
  },
  {
   "cell_type": "code",
   "execution_count": 39,
   "id": "34c62893",
   "metadata": {},
   "outputs": [
    {
     "name": "stdout",
     "output_type": "stream",
     "text": [
      "[2 4]\n"
     ]
    }
   ],
   "source": [
    "a = np.array([1,2,3,2,3,4,3,4,5,6])\n",
    "b = np.array([7,2,10,2,7,4,9,4,9,8])\n",
    "print(np.intersect1d(a,b))"
   ]
  },
  {
   "cell_type": "markdown",
   "id": "6367c90a",
   "metadata": {},
   "source": [
    "## Remove the common elements b/w two arrays"
   ]
  },
  {
   "cell_type": "code",
   "execution_count": 43,
   "id": "6b75c800",
   "metadata": {},
   "outputs": [
    {
     "name": "stdout",
     "output_type": "stream",
     "text": [
      "[1 2 3 4]\n"
     ]
    }
   ],
   "source": [
    "a = np.array([1,2,3,4,5])\n",
    "b = np.array([5,6,7,8,9])\n",
    "print(np.setdiff1d(a,b))"
   ]
  },
  {
   "cell_type": "markdown",
   "id": "de6a6eb6",
   "metadata": {},
   "source": [
    "## Get the positions where elements of a and b match"
   ]
  },
  {
   "cell_type": "code",
   "execution_count": 53,
   "id": "47aa5777",
   "metadata": {},
   "outputs": [
    {
     "data": {
      "text/plain": [
       "(array([1, 3, 5, 7], dtype=int64),)"
      ]
     },
     "execution_count": 53,
     "metadata": {},
     "output_type": "execute_result"
    }
   ],
   "source": [
    "a = np.array([1,2,3,2,3,4,3,4,5,6])\n",
    "b = np.array([7,2,10,2,7,4,9,4,9,8])\n",
    "np.where(a==b)"
   ]
  },
  {
   "cell_type": "markdown",
   "id": "541a5cdd",
   "metadata": {},
   "source": [
    "## Get the elements from an array b/w a given range"
   ]
  },
  {
   "cell_type": "code",
   "execution_count": 54,
   "id": "f7268ed4",
   "metadata": {},
   "outputs": [
    {
     "data": {
      "text/plain": [
       "array([5, 6])"
      ]
     },
     "execution_count": 54,
     "metadata": {},
     "output_type": "execute_result"
    }
   ],
   "source": [
    "a = np.array([1,2,3,2,3,4,3,4,5,6])\n",
    "index = np.where((a>=5) & (a<=10))\n",
    "a[index]"
   ]
  },
  {
   "cell_type": "markdown",
   "id": "e616ed9e",
   "metadata": {},
   "source": [
    "## Find the pair maximum for every column of two arrays"
   ]
  },
  {
   "cell_type": "code",
   "execution_count": 61,
   "id": "55f165eb",
   "metadata": {},
   "outputs": [
    {
     "name": "stdout",
     "output_type": "stream",
     "text": [
      "6 7 9 8 9 7 5 "
     ]
    }
   ],
   "source": [
    "def pair_max(a,b):\n",
    "    c = np.vstack([a,b])\n",
    "    for col in range(7):\n",
    "        print(max(c[0:2, col]), end=\" \")\n",
    "\n",
    "\n",
    "a = np.array([5, 7, 9, 8, 6, 4, 5])\n",
    "b = np.array([6, 3, 4, 8, 9, 7, 1])\n",
    "pair_max(a,b)"
   ]
  },
  {
   "cell_type": "markdown",
   "id": "a77dacc8",
   "metadata": {},
   "source": [
    "## Swap columns 1 and 2 in the array arr."
   ]
  },
  {
   "cell_type": "code",
   "execution_count": 66,
   "id": "008d7839",
   "metadata": {},
   "outputs": [
    {
     "name": "stdout",
     "output_type": "stream",
     "text": [
      "[[0 1 2]\n",
      " [3 4 5]\n",
      " [6 7 8]]\n",
      "\n",
      "The swapped array:\n",
      "\n",
      "[[1 0 2]\n",
      " [4 3 5]\n",
      " [7 6 8]]\n"
     ]
    }
   ],
   "source": [
    "a = np.arange(9).reshape(3,3)\n",
    "print(a)\n",
    "print(\"\\nThe swapped array:\\n\")\n",
    "print(a[:, [1,0,2]])"
   ]
  },
  {
   "cell_type": "code",
   "execution_count": null,
   "id": "2ee0640a",
   "metadata": {},
   "outputs": [],
   "source": []
  }
 ],
 "metadata": {
  "kernelspec": {
   "display_name": "venv",
   "language": "python",
   "name": "venv"
  },
  "language_info": {
   "codemirror_mode": {
    "name": "ipython",
    "version": 3
   },
   "file_extension": ".py",
   "mimetype": "text/x-python",
   "name": "python",
   "nbconvert_exporter": "python",
   "pygments_lexer": "ipython3",
   "version": "3.11.1"
  }
 },
 "nbformat": 4,
 "nbformat_minor": 5
}
